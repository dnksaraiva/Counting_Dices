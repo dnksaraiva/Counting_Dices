{
 "cells": [
  {
   "cell_type": "code",
   "execution_count": 1,
   "metadata": {},
   "outputs": [],
   "source": [
    "#importando as librarys necessarias\n",
    "\n",
    "from skimage import exposure\n",
    "import numpy as np\n",
    "import cv2\n",
    "import mahotas\n",
    "import argparse\n",
    "import imutils\n",
    "import matplotlib.pyplot as plt\n",
    "%matplotlib inline"
   ]
  },
  {
   "cell_type": "code",
   "execution_count": 2,
   "metadata": {},
   "outputs": [],
   "source": [
    "#importando as imagens\n",
    "imgColorida = cv2.imread('imagens/dados3.png')"
   ]
  },
  {
   "cell_type": "code",
   "execution_count": 3,
   "metadata": {},
   "outputs": [],
   "source": [
    "#redimensionando as imagens -> imutils é utilizada para modificar o tamanho mantendo a proporção\n",
    "ratio = imgColorida.shape[0] / 300.0\n",
    "imgColorida = imutils.resize(imgColorida, height = 300)\n",
    "orig = imgColorida.copy()\n",
    "#cv2.imshow('imagem original', orig)\n",
    "#cv2.waitKey()"
   ]
  },
  {
   "cell_type": "code",
   "execution_count": 4,
   "metadata": {},
   "outputs": [
    {
     "data": {
      "text/plain": [
       "\"\\nfonte = cv2.FONT_HERSHEY_SIMPLEX\\n# Window name in which image is displayed\\ntext = 'Image'\\n#create org\\norg = (10,20)\\n# fontScale\\nfontScale = 0.5\\n# Blue color in BGR\\ncolor = (255, 0, 0)\\n# Line thickness of 2 px\\nthickness = 0\\ncv2.putText(imgColorida, text, org, fonte, fontScale, color, thickness, cv2.LINE_AA)\\ncv2.imshow('imprime', imgColorida)\\ncv2.waitKey()\""
      ]
     },
     "execution_count": 4,
     "metadata": {},
     "output_type": "execute_result"
    }
   ],
   "source": [
    "#definindo os parâmetros do putText -> método usado para desenhar uma string de texto em qualquer imagem.\n",
    "'''\n",
    "fonte = cv2.FONT_HERSHEY_SIMPLEX\n",
    "# Window name in which image is displayed\n",
    "text = 'Image'\n",
    "#create org\n",
    "org = (10,20)\n",
    "# fontScale\n",
    "fontScale = 0.5\n",
    "# Blue color in BGR\n",
    "color = (255, 0, 0)\n",
    "# Line thickness of 2 px\n",
    "thickness = 0\n",
    "cv2.putText(imgColorida, text, org, fonte, fontScale, color, thickness, cv2.LINE_AA)\n",
    "cv2.imshow('imprime', imgColorida)\n",
    "cv2.waitKey()'''\n"
   ]
  },
  {
   "cell_type": "code",
   "execution_count": 5,
   "metadata": {},
   "outputs": [
    {
     "name": "stdout",
     "output_type": "stream",
     "text": [
      "[[255 255 230 ... 226 226 225]\n",
      " [255 255 233 ... 228 228 228]\n",
      " [255 255 231 ... 226 226 226]\n",
      " ...\n",
      " [255 255 219 ... 214 215 215]\n",
      " [255 255 220 ... 215 216 216]\n",
      " [255 255 220 ... 216 217 216]]\n"
     ]
    }
   ],
   "source": [
    "#iniciando o processo de binarização da imagem\n",
    "\n",
    "#convertendo para a escala cinza\n",
    "imgGray = cv2.cvtColor(imgColorida, cv2.COLOR_BGR2GRAY)\n",
    "print(imgGray)\n",
    "#cv2.imshow('escala cinza',imgGray)\n",
    "#cv2.waitKey()\n",
    "\n",
    "#aplicando o Blur -> filtro de suavição para ajudar no tratamento de ruídos\n",
    "suave = cv2.blur(imgGray, ksize = (5, 5))\n",
    "#suave2 = cv2.blur(imgGray2, ksize = (5, 5))\n",
    "#cv2.imshow('imagem com blur', suave)\n",
    "#cv2.waitKey()"
   ]
  },
  {
   "cell_type": "code",
   "execution_count": 6,
   "metadata": {},
   "outputs": [],
   "source": [
    "#ret,thresh = cv2.threshold(suave,100,255,0)\n",
    "#cv2.imshow('imagem binarizada', thresh)\n",
    "#cv2.waitKey()"
   ]
  },
  {
   "cell_type": "code",
   "execution_count": 7,
   "metadata": {},
   "outputs": [
    {
     "data": {
      "text/plain": [
       "True"
      ]
     },
     "execution_count": 7,
     "metadata": {},
     "output_type": "execute_result"
    }
   ],
   "source": [
    "#aplicando a binarização resultando em pixels brancos e pretos com o método de limiarização de Otsu:\n",
    "T = mahotas.thresholding.otsu(suave)\n",
    "bin = suave.copy()\n",
    "bin[bin > T] = 255\n",
    "bin[bin < 255] = 0\n",
    "bin = cv2.bitwise_not(bin)\n",
    "cv2.imshow('imagem binarizada',bin)\n",
    "cv2.waitKey()\n",
    "cv2.imwrite('nova_imagem.png',bin)\n",
    "#cv2.destroyAllWindows()"
   ]
  },
  {
   "cell_type": "code",
   "execution_count": 8,
   "metadata": {},
   "outputs": [
    {
     "data": {
      "text/plain": [
       "-1"
      ]
     },
     "execution_count": 8,
     "metadata": {},
     "output_type": "execute_result"
    }
   ],
   "source": [
    "#Detecção de bordas com Canny\n",
    "bordas = cv2.Canny(bin, 50, 200)\n",
    "cv2.imshow('img com bordas',bordas)\n",
    "cv2.waitKey()"
   ]
  },
  {
   "cell_type": "code",
   "execution_count": 10,
   "metadata": {},
   "outputs": [],
   "source": [
    "#aplicando o findCoutours\n",
    "contours, hierarchy = cv2.findContours(bordas.copy(),cv2.RETR_EXTERNAL,cv2.CHAIN_APPROX_SIMPLE)"
   ]
  },
  {
   "cell_type": "code",
   "execution_count": 11,
   "metadata": {},
   "outputs": [],
   "source": [
    "#empilhar a sequência de matrizes de entrada verticalmente para fazer uma única matriz\n",
    "pilha = np.vstack([np.hstack([imgGray, suave]),  np.hstack([bin, bordas])])"
   ]
  },
  {
   "cell_type": "code",
   "execution_count": 12,
   "metadata": {},
   "outputs": [
    {
     "data": {
      "text/plain": [
       "-1"
      ]
     },
     "execution_count": 12,
     "metadata": {},
     "output_type": "execute_result"
    }
   ],
   "source": [
    "#mostra as imagens em todas as suas etapas de processamento Gray, blur, binary e Canny\n",
    "cv2.imshow('objetos: '+str(len(hierarchy)), pilha)\n",
    "cv2.waitKey(0)"
   ]
  },
  {
   "cell_type": "code",
   "execution_count": 13,
   "metadata": {},
   "outputs": [],
   "source": [
    "def retornaText(orig, texto, cor=(255,0,0)):\n",
    "    fonte = cv2.FONT_HERSHEY_SIMPLEX \n",
    "    cv2.putText(orig, texto, (10,20), fonte, 0.5, cor, 0, cv2.LINE_AA)"
   ]
  },
  {
   "cell_type": "code",
   "execution_count": 14,
   "metadata": {},
   "outputs": [
    {
     "name": "stdout",
     "output_type": "stream",
     "text": [
      "Numero de dados encontrados: 5\n"
     ]
    }
   ],
   "source": [
    "contornos = 'Numero de dados encontrados: '+ str(len(contours))\n",
    "print(contornos)\n"
   ]
  },
  {
   "cell_type": "code",
   "execution_count": 15,
   "metadata": {},
   "outputs": [
    {
     "data": {
      "text/plain": [
       "<function destroyAllWindows>"
      ]
     },
     "execution_count": 15,
     "metadata": {},
     "output_type": "execute_result"
    }
   ],
   "source": [
    "#retorna a contagem dos contornos\n",
    "cv2.drawContours(orig, contours,-1, (255, 0, 0), 2)\n",
    "retornaText(orig, str(len(contours))+\" objetos encontrados!\")\n",
    "#print(orig,'resultado:' + str(len(contours)))\n",
    "cv2.imshow(\"Resultado\", orig)\n",
    "cv2.waitKey(0)\n",
    "cv2.destroyAllWindows"
   ]
  },
  {
   "cell_type": "code",
   "execution_count": null,
   "metadata": {},
   "outputs": [],
   "source": []
  },
  {
   "cell_type": "code",
   "execution_count": null,
   "metadata": {},
   "outputs": [],
   "source": []
  },
  {
   "cell_type": "code",
   "execution_count": null,
   "metadata": {},
   "outputs": [],
   "source": []
  },
  {
   "cell_type": "code",
   "execution_count": null,
   "metadata": {},
   "outputs": [],
   "source": []
  },
  {
   "cell_type": "code",
   "execution_count": null,
   "metadata": {},
   "outputs": [],
   "source": []
  }
 ],
 "metadata": {
  "kernelspec": {
   "display_name": "Python 3",
   "language": "python",
   "name": "python3"
  },
  "language_info": {
   "codemirror_mode": {
    "name": "ipython",
    "version": 3
   },
   "file_extension": ".py",
   "mimetype": "text/x-python",
   "name": "python",
   "nbconvert_exporter": "python",
   "pygments_lexer": "ipython3",
   "version": "3.7.6"
  }
 },
 "nbformat": 4,
 "nbformat_minor": 4
}
